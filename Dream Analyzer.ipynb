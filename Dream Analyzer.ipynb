{
 "cells": [
  {
   "cell_type": "code",
   "execution_count": 14,
   "id": "9bc62d76-635f-4e55-9b77-4cec1716915d",
   "metadata": {},
   "outputs": [
    {
     "name": "stdout",
     "output_type": "stream",
     "text": [
      "Requirement already satisfied: flask in c:\\users\\chana\\appdata\\roaming\\python\\python313\\site-packages (3.1.2)\n",
      "Requirement already satisfied: pymongo in c:\\users\\chana\\appdata\\roaming\\python\\python313\\site-packages (4.15.3)\n",
      "Requirement already satisfied: dnspython in c:\\users\\chana\\appdata\\roaming\\python\\python313\\site-packages (2.8.0)\n",
      "Requirement already satisfied: transformers in c:\\users\\chana\\appdata\\roaming\\python\\python313\\site-packages (4.57.1)\n",
      "Requirement already satisfied: keybert in c:\\users\\chana\\appdata\\roaming\\python\\python313\\site-packages (0.9.0)\n",
      "Requirement already satisfied: torch in c:\\users\\chana\\appdata\\roaming\\python\\python313\\site-packages (2.9.0)\n",
      "Requirement already satisfied: blinker>=1.9.0 in c:\\users\\chana\\appdata\\roaming\\python\\python313\\site-packages (from flask) (1.9.0)\n",
      "Requirement already satisfied: click>=8.1.3 in c:\\users\\chana\\appdata\\roaming\\python\\python313\\site-packages (from flask) (8.3.0)\n",
      "Requirement already satisfied: itsdangerous>=2.2.0 in c:\\users\\chana\\appdata\\roaming\\python\\python313\\site-packages (from flask) (2.2.0)\n",
      "Requirement already satisfied: jinja2>=3.1.2 in c:\\users\\chana\\appdata\\roaming\\python\\python313\\site-packages (from flask) (3.1.6)\n",
      "Requirement already satisfied: markupsafe>=2.1.1 in c:\\users\\chana\\appdata\\roaming\\python\\python313\\site-packages (from flask) (3.0.2)\n",
      "Requirement already satisfied: werkzeug>=3.1.0 in c:\\users\\chana\\appdata\\roaming\\python\\python313\\site-packages (from flask) (3.1.3)\n",
      "Requirement already satisfied: filelock in c:\\users\\chana\\appdata\\roaming\\python\\python313\\site-packages (from transformers) (3.20.0)\n",
      "Requirement already satisfied: huggingface-hub<1.0,>=0.34.0 in c:\\users\\chana\\appdata\\roaming\\python\\python313\\site-packages (from transformers) (0.35.3)\n",
      "Requirement already satisfied: numpy>=1.17 in c:\\users\\chana\\appdata\\roaming\\python\\python313\\site-packages (from transformers) (2.3.1)\n",
      "Requirement already satisfied: packaging>=20.0 in c:\\users\\chana\\appdata\\roaming\\python\\python313\\site-packages (from transformers) (25.0)\n",
      "Requirement already satisfied: pyyaml>=5.1 in c:\\users\\chana\\appdata\\roaming\\python\\python313\\site-packages (from transformers) (6.0.2)\n",
      "Requirement already satisfied: regex!=2019.12.17 in c:\\users\\chana\\appdata\\roaming\\python\\python313\\site-packages (from transformers) (2025.9.18)\n",
      "Requirement already satisfied: requests in c:\\users\\chana\\appdata\\roaming\\python\\python313\\site-packages (from transformers) (2.32.4)\n",
      "Requirement already satisfied: tokenizers<=0.23.0,>=0.22.0 in c:\\users\\chana\\appdata\\roaming\\python\\python313\\site-packages (from transformers) (0.22.1)\n",
      "Requirement already satisfied: safetensors>=0.4.3 in c:\\users\\chana\\appdata\\roaming\\python\\python313\\site-packages (from transformers) (0.6.2)\n",
      "Requirement already satisfied: tqdm>=4.27 in c:\\users\\chana\\appdata\\roaming\\python\\python313\\site-packages (from transformers) (4.67.1)\n",
      "Requirement already satisfied: fsspec>=2023.5.0 in c:\\users\\chana\\appdata\\roaming\\python\\python313\\site-packages (from huggingface-hub<1.0,>=0.34.0->transformers) (2025.9.0)\n",
      "Requirement already satisfied: typing-extensions>=3.7.4.3 in c:\\users\\chana\\appdata\\roaming\\python\\python313\\site-packages (from huggingface-hub<1.0,>=0.34.0->transformers) (4.14.1)\n",
      "Requirement already satisfied: rich>=10.4.0 in c:\\users\\chana\\appdata\\roaming\\python\\python313\\site-packages (from keybert) (14.2.0)\n",
      "Requirement already satisfied: scikit-learn>=0.22.2 in c:\\users\\chana\\appdata\\roaming\\python\\python313\\site-packages (from keybert) (1.7.2)\n",
      "Requirement already satisfied: sentence-transformers>=0.3.8 in c:\\users\\chana\\appdata\\roaming\\python\\python313\\site-packages (from keybert) (5.1.1)\n",
      "Requirement already satisfied: sympy>=1.13.3 in c:\\users\\chana\\appdata\\roaming\\python\\python313\\site-packages (from torch) (1.14.0)\n",
      "Requirement already satisfied: networkx>=2.5.1 in c:\\users\\chana\\appdata\\roaming\\python\\python313\\site-packages (from torch) (3.5)\n",
      "Requirement already satisfied: setuptools in c:\\users\\chana\\appdata\\roaming\\python\\python313\\site-packages (from torch) (80.9.0)\n",
      "Requirement already satisfied: colorama in c:\\users\\chana\\appdata\\roaming\\python\\python313\\site-packages (from click>=8.1.3->flask) (0.4.6)\n",
      "Requirement already satisfied: markdown-it-py>=2.2.0 in c:\\users\\chana\\appdata\\roaming\\python\\python313\\site-packages (from rich>=10.4.0->keybert) (4.0.0)\n",
      "Requirement already satisfied: pygments<3.0.0,>=2.13.0 in c:\\users\\chana\\appdata\\roaming\\python\\python313\\site-packages (from rich>=10.4.0->keybert) (2.19.2)\n",
      "Requirement already satisfied: mdurl~=0.1 in c:\\users\\chana\\appdata\\roaming\\python\\python313\\site-packages (from markdown-it-py>=2.2.0->rich>=10.4.0->keybert) (0.1.2)\n",
      "Requirement already satisfied: scipy>=1.8.0 in c:\\users\\chana\\appdata\\roaming\\python\\python313\\site-packages (from scikit-learn>=0.22.2->keybert) (1.16.2)\n",
      "Requirement already satisfied: joblib>=1.2.0 in c:\\users\\chana\\appdata\\roaming\\python\\python313\\site-packages (from scikit-learn>=0.22.2->keybert) (1.5.2)\n",
      "Requirement already satisfied: threadpoolctl>=3.1.0 in c:\\users\\chana\\appdata\\roaming\\python\\python313\\site-packages (from scikit-learn>=0.22.2->keybert) (3.6.0)\n",
      "Requirement already satisfied: Pillow in c:\\users\\chana\\appdata\\roaming\\python\\python313\\site-packages (from sentence-transformers>=0.3.8->keybert) (11.2.1)\n",
      "Requirement already satisfied: mpmath<1.4,>=1.1.0 in c:\\users\\chana\\appdata\\roaming\\python\\python313\\site-packages (from sympy>=1.13.3->torch) (1.3.0)\n",
      "Requirement already satisfied: charset_normalizer<4,>=2 in c:\\users\\chana\\appdata\\roaming\\python\\python313\\site-packages (from requests->transformers) (3.4.2)\n",
      "Requirement already satisfied: idna<4,>=2.5 in c:\\users\\chana\\appdata\\roaming\\python\\python313\\site-packages (from requests->transformers) (3.10)\n",
      "Requirement already satisfied: urllib3<3,>=1.21.1 in c:\\users\\chana\\appdata\\roaming\\python\\python313\\site-packages (from requests->transformers) (2.5.0)\n",
      "Requirement already satisfied: certifi>=2017.4.17 in c:\\users\\chana\\appdata\\roaming\\python\\python313\\site-packages (from requests->transformers) (2025.7.14)\n",
      "Modules loaded successfully\n"
     ]
    }
   ],
   "source": [
    "!pip install flask pymongo dnspython transformers keybert torch\n",
    "print('Modules loaded successfully')"
   ]
  },
  {
   "cell_type": "code",
   "execution_count": 15,
   "id": "72fdfde8-d882-4600-b513-58d5fdab14de",
   "metadata": {},
   "outputs": [],
   "source": [
    "from ai_model import analyze_dream\n",
    "from database import save_dream, dreams_collection\n"
   ]
  },
  {
   "cell_type": "code",
   "execution_count": 16,
   "id": "62cedc4d-a2c6-472a-a99b-d59851ccc55e",
   "metadata": {},
   "outputs": [
    {
     "name": "stdout",
     "output_type": "stream",
     "text": [
      "Requirement already satisfied: pymongo in c:\\users\\chana\\appdata\\roaming\\python\\python313\\site-packages (4.15.3)\n",
      "Requirement already satisfied: dnspython in c:\\users\\chana\\appdata\\roaming\\python\\python313\\site-packages (2.8.0)\n"
     ]
    }
   ],
   "source": [
    "!pip install pymongo dnspython\n"
   ]
  },
  {
   "cell_type": "code",
   "execution_count": 17,
   "id": "2c8729ab-d300-4120-92fb-788081db089e",
   "metadata": {},
   "outputs": [
    {
     "name": "stdout",
     "output_type": "stream",
     "text": [
      "Requirement already satisfied: transformers in c:\\users\\chana\\appdata\\roaming\\python\\python313\\site-packages (4.57.1)\n",
      "Requirement already satisfied: torch in c:\\users\\chana\\appdata\\roaming\\python\\python313\\site-packages (2.9.0)\n",
      "Requirement already satisfied: keybert in c:\\users\\chana\\appdata\\roaming\\python\\python313\\site-packages (0.9.0)\n",
      "Requirement already satisfied: sentence-transformers in c:\\users\\chana\\appdata\\roaming\\python\\python313\\site-packages (5.1.1)\n",
      "Requirement already satisfied: filelock in c:\\users\\chana\\appdata\\roaming\\python\\python313\\site-packages (from transformers) (3.20.0)\n",
      "Requirement already satisfied: huggingface-hub<1.0,>=0.34.0 in c:\\users\\chana\\appdata\\roaming\\python\\python313\\site-packages (from transformers) (0.35.3)\n",
      "Requirement already satisfied: numpy>=1.17 in c:\\users\\chana\\appdata\\roaming\\python\\python313\\site-packages (from transformers) (2.3.1)\n",
      "Requirement already satisfied: packaging>=20.0 in c:\\users\\chana\\appdata\\roaming\\python\\python313\\site-packages (from transformers) (25.0)\n",
      "Requirement already satisfied: pyyaml>=5.1 in c:\\users\\chana\\appdata\\roaming\\python\\python313\\site-packages (from transformers) (6.0.2)\n",
      "Requirement already satisfied: regex!=2019.12.17 in c:\\users\\chana\\appdata\\roaming\\python\\python313\\site-packages (from transformers) (2025.9.18)\n",
      "Requirement already satisfied: requests in c:\\users\\chana\\appdata\\roaming\\python\\python313\\site-packages (from transformers) (2.32.4)\n",
      "Requirement already satisfied: tokenizers<=0.23.0,>=0.22.0 in c:\\users\\chana\\appdata\\roaming\\python\\python313\\site-packages (from transformers) (0.22.1)\n",
      "Requirement already satisfied: safetensors>=0.4.3 in c:\\users\\chana\\appdata\\roaming\\python\\python313\\site-packages (from transformers) (0.6.2)\n",
      "Requirement already satisfied: tqdm>=4.27 in c:\\users\\chana\\appdata\\roaming\\python\\python313\\site-packages (from transformers) (4.67.1)\n",
      "Requirement already satisfied: fsspec>=2023.5.0 in c:\\users\\chana\\appdata\\roaming\\python\\python313\\site-packages (from huggingface-hub<1.0,>=0.34.0->transformers) (2025.9.0)\n",
      "Requirement already satisfied: typing-extensions>=3.7.4.3 in c:\\users\\chana\\appdata\\roaming\\python\\python313\\site-packages (from huggingface-hub<1.0,>=0.34.0->transformers) (4.14.1)\n",
      "Requirement already satisfied: sympy>=1.13.3 in c:\\users\\chana\\appdata\\roaming\\python\\python313\\site-packages (from torch) (1.14.0)\n",
      "Requirement already satisfied: networkx>=2.5.1 in c:\\users\\chana\\appdata\\roaming\\python\\python313\\site-packages (from torch) (3.5)\n",
      "Requirement already satisfied: jinja2 in c:\\users\\chana\\appdata\\roaming\\python\\python313\\site-packages (from torch) (3.1.6)\n",
      "Requirement already satisfied: setuptools in c:\\users\\chana\\appdata\\roaming\\python\\python313\\site-packages (from torch) (80.9.0)\n",
      "Requirement already satisfied: rich>=10.4.0 in c:\\users\\chana\\appdata\\roaming\\python\\python313\\site-packages (from keybert) (14.2.0)\n",
      "Requirement already satisfied: scikit-learn>=0.22.2 in c:\\users\\chana\\appdata\\roaming\\python\\python313\\site-packages (from keybert) (1.7.2)\n",
      "Requirement already satisfied: scipy in c:\\users\\chana\\appdata\\roaming\\python\\python313\\site-packages (from sentence-transformers) (1.16.2)\n",
      "Requirement already satisfied: Pillow in c:\\users\\chana\\appdata\\roaming\\python\\python313\\site-packages (from sentence-transformers) (11.2.1)\n",
      "Requirement already satisfied: markdown-it-py>=2.2.0 in c:\\users\\chana\\appdata\\roaming\\python\\python313\\site-packages (from rich>=10.4.0->keybert) (4.0.0)\n",
      "Requirement already satisfied: pygments<3.0.0,>=2.13.0 in c:\\users\\chana\\appdata\\roaming\\python\\python313\\site-packages (from rich>=10.4.0->keybert) (2.19.2)\n",
      "Requirement already satisfied: mdurl~=0.1 in c:\\users\\chana\\appdata\\roaming\\python\\python313\\site-packages (from markdown-it-py>=2.2.0->rich>=10.4.0->keybert) (0.1.2)\n",
      "Requirement already satisfied: joblib>=1.2.0 in c:\\users\\chana\\appdata\\roaming\\python\\python313\\site-packages (from scikit-learn>=0.22.2->keybert) (1.5.2)\n",
      "Requirement already satisfied: threadpoolctl>=3.1.0 in c:\\users\\chana\\appdata\\roaming\\python\\python313\\site-packages (from scikit-learn>=0.22.2->keybert) (3.6.0)\n",
      "Requirement already satisfied: mpmath<1.4,>=1.1.0 in c:\\users\\chana\\appdata\\roaming\\python\\python313\\site-packages (from sympy>=1.13.3->torch) (1.3.0)\n",
      "Requirement already satisfied: colorama in c:\\users\\chana\\appdata\\roaming\\python\\python313\\site-packages (from tqdm>=4.27->transformers) (0.4.6)\n",
      "Requirement already satisfied: MarkupSafe>=2.0 in c:\\users\\chana\\appdata\\roaming\\python\\python313\\site-packages (from jinja2->torch) (3.0.2)\n",
      "Requirement already satisfied: charset_normalizer<4,>=2 in c:\\users\\chana\\appdata\\roaming\\python\\python313\\site-packages (from requests->transformers) (3.4.2)\n",
      "Requirement already satisfied: idna<4,>=2.5 in c:\\users\\chana\\appdata\\roaming\\python\\python313\\site-packages (from requests->transformers) (3.10)\n",
      "Requirement already satisfied: urllib3<3,>=1.21.1 in c:\\users\\chana\\appdata\\roaming\\python\\python313\\site-packages (from requests->transformers) (2.5.0)\n",
      "Requirement already satisfied: certifi>=2017.4.17 in c:\\users\\chana\\appdata\\roaming\\python\\python313\\site-packages (from requests->transformers) (2025.7.14)\n"
     ]
    }
   ],
   "source": [
    "!pip install transformers torch keybert sentence-transformers\n"
   ]
  },
  {
   "cell_type": "code",
   "execution_count": 18,
   "id": "e5d7e83a-ecba-4cbc-8a8c-d0a4078c5a68",
   "metadata": {},
   "outputs": [
    {
     "name": "stdout",
     "output_type": "stream",
     "text": [
      "Requirement already satisfied: torch in c:\\users\\chana\\appdata\\roaming\\python\\python313\\site-packages (2.9.0)\n",
      "Requirement already satisfied: torchvision in d:\\new folder\\lib\\site-packages (0.24.0)\n",
      "Requirement already satisfied: torchaudio in d:\\new folder\\lib\\site-packages (2.9.0)\n",
      "Requirement already satisfied: transformers in c:\\users\\chana\\appdata\\roaming\\python\\python313\\site-packages (4.57.1)\n",
      "Requirement already satisfied: filelock in c:\\users\\chana\\appdata\\roaming\\python\\python313\\site-packages (from torch) (3.20.0)\n",
      "Requirement already satisfied: typing-extensions>=4.10.0 in c:\\users\\chana\\appdata\\roaming\\python\\python313\\site-packages (from torch) (4.14.1)\n",
      "Requirement already satisfied: sympy>=1.13.3 in c:\\users\\chana\\appdata\\roaming\\python\\python313\\site-packages (from torch) (1.14.0)\n",
      "Requirement already satisfied: networkx>=2.5.1 in c:\\users\\chana\\appdata\\roaming\\python\\python313\\site-packages (from torch) (3.5)\n",
      "Requirement already satisfied: jinja2 in c:\\users\\chana\\appdata\\roaming\\python\\python313\\site-packages (from torch) (3.1.6)\n",
      "Requirement already satisfied: fsspec>=0.8.5 in c:\\users\\chana\\appdata\\roaming\\python\\python313\\site-packages (from torch) (2025.9.0)\n",
      "Requirement already satisfied: setuptools in c:\\users\\chana\\appdata\\roaming\\python\\python313\\site-packages (from torch) (80.9.0)\n",
      "Requirement already satisfied: numpy in c:\\users\\chana\\appdata\\roaming\\python\\python313\\site-packages (from torchvision) (2.3.1)\n",
      "Requirement already satisfied: pillow!=8.3.*,>=5.3.0 in c:\\users\\chana\\appdata\\roaming\\python\\python313\\site-packages (from torchvision) (11.2.1)\n",
      "Requirement already satisfied: huggingface-hub<1.0,>=0.34.0 in c:\\users\\chana\\appdata\\roaming\\python\\python313\\site-packages (from transformers) (0.35.3)\n",
      "Requirement already satisfied: packaging>=20.0 in c:\\users\\chana\\appdata\\roaming\\python\\python313\\site-packages (from transformers) (25.0)\n",
      "Requirement already satisfied: pyyaml>=5.1 in c:\\users\\chana\\appdata\\roaming\\python\\python313\\site-packages (from transformers) (6.0.2)\n",
      "Requirement already satisfied: regex!=2019.12.17 in c:\\users\\chana\\appdata\\roaming\\python\\python313\\site-packages (from transformers) (2025.9.18)\n",
      "Requirement already satisfied: requests in c:\\users\\chana\\appdata\\roaming\\python\\python313\\site-packages (from transformers) (2.32.4)\n",
      "Requirement already satisfied: tokenizers<=0.23.0,>=0.22.0 in c:\\users\\chana\\appdata\\roaming\\python\\python313\\site-packages (from transformers) (0.22.1)\n",
      "Requirement already satisfied: safetensors>=0.4.3 in c:\\users\\chana\\appdata\\roaming\\python\\python313\\site-packages (from transformers) (0.6.2)\n",
      "Requirement already satisfied: tqdm>=4.27 in c:\\users\\chana\\appdata\\roaming\\python\\python313\\site-packages (from transformers) (4.67.1)\n",
      "Requirement already satisfied: mpmath<1.4,>=1.1.0 in c:\\users\\chana\\appdata\\roaming\\python\\python313\\site-packages (from sympy>=1.13.3->torch) (1.3.0)\n",
      "Requirement already satisfied: colorama in c:\\users\\chana\\appdata\\roaming\\python\\python313\\site-packages (from tqdm>=4.27->transformers) (0.4.6)\n",
      "Requirement already satisfied: MarkupSafe>=2.0 in c:\\users\\chana\\appdata\\roaming\\python\\python313\\site-packages (from jinja2->torch) (3.0.2)\n",
      "Requirement already satisfied: charset_normalizer<4,>=2 in c:\\users\\chana\\appdata\\roaming\\python\\python313\\site-packages (from requests->transformers) (3.4.2)\n",
      "Requirement already satisfied: idna<4,>=2.5 in c:\\users\\chana\\appdata\\roaming\\python\\python313\\site-packages (from requests->transformers) (3.10)\n",
      "Requirement already satisfied: urllib3<3,>=1.21.1 in c:\\users\\chana\\appdata\\roaming\\python\\python313\\site-packages (from requests->transformers) (2.5.0)\n",
      "Requirement already satisfied: certifi>=2017.4.17 in c:\\users\\chana\\appdata\\roaming\\python\\python313\\site-packages (from requests->transformers) (2025.7.14)\n"
     ]
    }
   ],
   "source": [
    "!pip install torch torchvision torchaudio transformers\n"
   ]
  },
  {
   "cell_type": "code",
   "execution_count": 19,
   "id": "849a70fa-69ce-4098-8c79-94e3cab347c3",
   "metadata": {},
   "outputs": [
    {
     "name": "stdout",
     "output_type": "stream",
     "text": [
      "Requirement already satisfied: transformers in c:\\users\\chana\\appdata\\roaming\\python\\python313\\site-packages (4.57.1)\n",
      "Requirement already satisfied: torch in c:\\users\\chana\\appdata\\roaming\\python\\python313\\site-packages (2.9.0)\n",
      "Requirement already satisfied: accelerate in d:\\new folder\\lib\\site-packages (1.11.0)\n",
      "Requirement already satisfied: filelock in c:\\users\\chana\\appdata\\roaming\\python\\python313\\site-packages (from transformers) (3.20.0)\n",
      "Requirement already satisfied: huggingface-hub<1.0,>=0.34.0 in c:\\users\\chana\\appdata\\roaming\\python\\python313\\site-packages (from transformers) (0.35.3)\n",
      "Requirement already satisfied: numpy>=1.17 in c:\\users\\chana\\appdata\\roaming\\python\\python313\\site-packages (from transformers) (2.3.1)\n",
      "Requirement already satisfied: packaging>=20.0 in c:\\users\\chana\\appdata\\roaming\\python\\python313\\site-packages (from transformers) (25.0)\n",
      "Requirement already satisfied: pyyaml>=5.1 in c:\\users\\chana\\appdata\\roaming\\python\\python313\\site-packages (from transformers) (6.0.2)\n",
      "Requirement already satisfied: regex!=2019.12.17 in c:\\users\\chana\\appdata\\roaming\\python\\python313\\site-packages (from transformers) (2025.9.18)\n",
      "Requirement already satisfied: requests in c:\\users\\chana\\appdata\\roaming\\python\\python313\\site-packages (from transformers) (2.32.4)\n",
      "Requirement already satisfied: tokenizers<=0.23.0,>=0.22.0 in c:\\users\\chana\\appdata\\roaming\\python\\python313\\site-packages (from transformers) (0.22.1)\n",
      "Requirement already satisfied: safetensors>=0.4.3 in c:\\users\\chana\\appdata\\roaming\\python\\python313\\site-packages (from transformers) (0.6.2)\n",
      "Requirement already satisfied: tqdm>=4.27 in c:\\users\\chana\\appdata\\roaming\\python\\python313\\site-packages (from transformers) (4.67.1)\n",
      "Requirement already satisfied: fsspec>=2023.5.0 in c:\\users\\chana\\appdata\\roaming\\python\\python313\\site-packages (from huggingface-hub<1.0,>=0.34.0->transformers) (2025.9.0)\n",
      "Requirement already satisfied: typing-extensions>=3.7.4.3 in c:\\users\\chana\\appdata\\roaming\\python\\python313\\site-packages (from huggingface-hub<1.0,>=0.34.0->transformers) (4.14.1)\n",
      "Requirement already satisfied: sympy>=1.13.3 in c:\\users\\chana\\appdata\\roaming\\python\\python313\\site-packages (from torch) (1.14.0)\n",
      "Requirement already satisfied: networkx>=2.5.1 in c:\\users\\chana\\appdata\\roaming\\python\\python313\\site-packages (from torch) (3.5)\n",
      "Requirement already satisfied: jinja2 in c:\\users\\chana\\appdata\\roaming\\python\\python313\\site-packages (from torch) (3.1.6)\n",
      "Requirement already satisfied: setuptools in c:\\users\\chana\\appdata\\roaming\\python\\python313\\site-packages (from torch) (80.9.0)\n",
      "Requirement already satisfied: psutil in c:\\users\\chana\\appdata\\roaming\\python\\python313\\site-packages (from accelerate) (7.0.0)\n",
      "Requirement already satisfied: mpmath<1.4,>=1.1.0 in c:\\users\\chana\\appdata\\roaming\\python\\python313\\site-packages (from sympy>=1.13.3->torch) (1.3.0)\n",
      "Requirement already satisfied: colorama in c:\\users\\chana\\appdata\\roaming\\python\\python313\\site-packages (from tqdm>=4.27->transformers) (0.4.6)\n",
      "Requirement already satisfied: MarkupSafe>=2.0 in c:\\users\\chana\\appdata\\roaming\\python\\python313\\site-packages (from jinja2->torch) (3.0.2)\n",
      "Requirement already satisfied: charset_normalizer<4,>=2 in c:\\users\\chana\\appdata\\roaming\\python\\python313\\site-packages (from requests->transformers) (3.4.2)\n",
      "Requirement already satisfied: idna<4,>=2.5 in c:\\users\\chana\\appdata\\roaming\\python\\python313\\site-packages (from requests->transformers) (3.10)\n",
      "Requirement already satisfied: urllib3<3,>=1.21.1 in c:\\users\\chana\\appdata\\roaming\\python\\python313\\site-packages (from requests->transformers) (2.5.0)\n",
      "Requirement already satisfied: certifi>=2017.4.17 in c:\\users\\chana\\appdata\\roaming\\python\\python313\\site-packages (from requests->transformers) (2025.7.14)\n"
     ]
    }
   ],
   "source": [
    "!pip install -U transformers torch accelerate\n"
   ]
  },
  {
   "cell_type": "code",
   "execution_count": 20,
   "id": "9019c4c6-e51d-4a6d-ae21-3390181578a7",
   "metadata": {},
   "outputs": [
    {
     "name": "stdin",
     "output_type": "stream",
     "text": [
      "Describe your dream:  I slept\n"
     ]
    },
    {
     "name": "stdout",
     "output_type": "stream",
     "text": [
      "Your dream mainly reflects **sadness** (confidence: 0.49), and also hints of **neutral** (confidence: 0.21).\n"
     ]
    },
    {
     "ename": "NameError",
     "evalue": "name 'interpretation' is not defined",
     "output_type": "error",
     "traceback": [
      "\u001b[31m---------------------------------------------------------------------------\u001b[39m",
      "\u001b[31mNameError\u001b[39m                                 Traceback (most recent call last)",
      "\u001b[36mCell\u001b[39m\u001b[36m \u001b[39m\u001b[32mIn[20]\u001b[39m\u001b[32m, line 8\u001b[39m\n\u001b[32m      5\u001b[39m result_text, analysis = analyze_dream(dream)\n\u001b[32m      6\u001b[39m \u001b[38;5;28mprint\u001b[39m(result_text)\n\u001b[32m----> \u001b[39m\u001b[32m8\u001b[39m \u001b[43msave_dream\u001b[49m\u001b[43m(\u001b[49m\u001b[33;43m\"\u001b[39;49m\u001b[33;43muser1\u001b[39;49m\u001b[33;43m\"\u001b[39;49m\u001b[43m,\u001b[49m\u001b[43m \u001b[49m\u001b[43mdream\u001b[49m\u001b[43m,\u001b[49m\u001b[43m \u001b[49m\u001b[43manalysis\u001b[49m\u001b[43m)\u001b[49m\n\u001b[32m      9\u001b[39m \u001b[38;5;28mprint\u001b[39m(\u001b[33m\"\u001b[39m\u001b[33mDream saved successfully!\u001b[39m\u001b[33m\"\u001b[39m)\n",
      "\u001b[36mFile \u001b[39m\u001b[32m~\\Dream Analyzer\\database.py:30\u001b[39m, in \u001b[36msave_dream\u001b[39m\u001b[34m(user_id, dream_text, analysis)\u001b[39m\n\u001b[32m     25\u001b[39m \u001b[38;5;28;01mdef\u001b[39;00m\u001b[38;5;250m \u001b[39m\u001b[34msave_dream\u001b[39m(user_id, dream_text, analysis):\n\u001b[32m     26\u001b[39m     dream_entry = {\n\u001b[32m     27\u001b[39m         \u001b[33m\"\u001b[39m\u001b[33muser_id\u001b[39m\u001b[33m\"\u001b[39m: user_id,\n\u001b[32m     28\u001b[39m         \u001b[33m\"\u001b[39m\u001b[33mdream\u001b[39m\u001b[33m\"\u001b[39m: dream_text,\n\u001b[32m     29\u001b[39m         \u001b[33m\"\u001b[39m\u001b[33manalysis\u001b[39m\u001b[33m\"\u001b[39m: analysis,\n\u001b[32m---> \u001b[39m\u001b[32m30\u001b[39m         \u001b[33m\"\u001b[39m\u001b[33minterpretation\u001b[39m\u001b[33m\"\u001b[39m: \u001b[43minterpretation\u001b[49m,\n\u001b[32m     31\u001b[39m         \u001b[33m\"\u001b[39m\u001b[33mtimestamp\u001b[39m\u001b[33m\"\u001b[39m: datetime.now().strftime(\u001b[33m\"\u001b[39m\u001b[38;5;132;01m%d\u001b[39;00m\u001b[33m \u001b[39m\u001b[33m%\u001b[39m\u001b[33mb \u001b[39m\u001b[33m%\u001b[39m\u001b[33mY, \u001b[39m\u001b[33m%\u001b[39m\u001b[33mI:\u001b[39m\u001b[33m%\u001b[39m\u001b[33mM \u001b[39m\u001b[33m%\u001b[39m\u001b[33mp\u001b[39m\u001b[33m\"\u001b[39m)\n\u001b[32m     32\u001b[39m     }\n\u001b[32m     33\u001b[39m     dreams_collection.insert_one(dream_entry)\n\u001b[32m     34\u001b[39m     \u001b[38;5;28mprint\u001b[39m(\u001b[33m\"\u001b[39m\u001b[33mDream saved successfully!\u001b[39m\u001b[33m\"\u001b[39m)\n",
      "\u001b[31mNameError\u001b[39m: name 'interpretation' is not defined"
     ]
    }
   ],
   "source": [
    "from database import save_dream\n",
    "from ai_model import analyze_dream\n",
    "\n",
    "dream = input(\"Describe your dream: \")\n",
    "result_text, analysis = analyze_dream(dream)\n",
    "print(result_text)\n",
    "\n",
    "save_dream(\"user1\", dream, analysis)\n",
    "print(\"Dream saved successfully!\")\n"
   ]
  },
  {
   "cell_type": "code",
   "execution_count": 21,
   "id": "7a7e86a0-2bb9-43bb-9fd7-88f5c6ec2a42",
   "metadata": {},
   "outputs": [
    {
     "name": "stdout",
     "output_type": "stream",
     "text": [
      "User: user1\n",
      "Dream: I topped my exams\n",
      "Analysis: {'primary_emotion': 'joy', 'secondary_emotion': 'fear', 'confidence_primary': 0.96, 'confidence_secondary': 0.01}\n",
      "--------------------------------------------------\n",
      "User: user1\n",
      "Dream: I failed my exams\n",
      "Analysis: {'primary_emotion': 'sadness', 'secondary_emotion': 'anger', 'confidence_primary': 0.92, 'confidence_secondary': 0.04}\n",
      "--------------------------------------------------\n",
      "User: user1\n",
      "Dream: I saw a ghost\n",
      "Analysis: {'primary_emotion': 'fear', 'secondary_emotion': 'surprise', 'confidence_primary': 0.93, 'confidence_secondary': 0.05}\n",
      "--------------------------------------------------\n",
      "User: user1\n",
      "Dream: I failed in my exams\n",
      "Analysis: {'primary_emotion': 'sadness', 'secondary_emotion': 'fear', 'confidence_primary': 0.96, 'confidence_secondary': 0.02}\n",
      "--------------------------------------------------\n"
     ]
    },
    {
     "ename": "KeyError",
     "evalue": "'user'",
     "output_type": "error",
     "traceback": [
      "\u001b[31m---------------------------------------------------------------------------\u001b[39m",
      "\u001b[31mKeyError\u001b[39m                                  Traceback (most recent call last)",
      "\u001b[36mCell\u001b[39m\u001b[36m \u001b[39m\u001b[32mIn[21]\u001b[39m\u001b[32m, line 4\u001b[39m\n\u001b[32m      1\u001b[39m \u001b[38;5;28;01mfrom\u001b[39;00m\u001b[38;5;250m \u001b[39m\u001b[34;01mdatabase\u001b[39;00m\u001b[38;5;250m \u001b[39m\u001b[38;5;28;01mimport\u001b[39;00m dreams_collection\n\u001b[32m      3\u001b[39m \u001b[38;5;28;01mfor\u001b[39;00m dream \u001b[38;5;129;01min\u001b[39;00m dreams_collection.find():\n\u001b[32m----> \u001b[39m\u001b[32m4\u001b[39m     \u001b[38;5;28mprint\u001b[39m(\u001b[33mf\u001b[39m\u001b[33m\"\u001b[39m\u001b[33mUser: \u001b[39m\u001b[38;5;132;01m{\u001b[39;00m\u001b[43mdream\u001b[49m\u001b[43m[\u001b[49m\u001b[33;43m'\u001b[39;49m\u001b[33;43muser\u001b[39;49m\u001b[33;43m'\u001b[39;49m\u001b[43m]\u001b[49m\u001b[38;5;132;01m}\u001b[39;00m\u001b[33m\"\u001b[39m)\n\u001b[32m      5\u001b[39m     \u001b[38;5;28mprint\u001b[39m(\u001b[33mf\u001b[39m\u001b[33m\"\u001b[39m\u001b[33mDream: \u001b[39m\u001b[38;5;132;01m{\u001b[39;00mdream[\u001b[33m'\u001b[39m\u001b[33mdream\u001b[39m\u001b[33m'\u001b[39m]\u001b[38;5;132;01m}\u001b[39;00m\u001b[33m\"\u001b[39m)\n\u001b[32m      6\u001b[39m     \u001b[38;5;28mprint\u001b[39m(\u001b[33mf\u001b[39m\u001b[33m\"\u001b[39m\u001b[33mAnalysis: \u001b[39m\u001b[38;5;132;01m{\u001b[39;00mdream[\u001b[33m'\u001b[39m\u001b[33manalysis\u001b[39m\u001b[33m'\u001b[39m]\u001b[38;5;132;01m}\u001b[39;00m\u001b[33m\"\u001b[39m)\n",
      "\u001b[31mKeyError\u001b[39m: 'user'"
     ]
    }
   ],
   "source": [
    "from database import dreams_collection\n",
    "\n",
    "for dream in dreams_collection.find():\n",
    "    print(f\"User: {dream['user']}\")\n",
    "    print(f\"Dream: {dream['dream']}\")\n",
    "    print(f\"Analysis: {dream['analysis']}\")\n",
    "    print(\"-\" * 50)\n"
   ]
  },
  {
   "cell_type": "code",
   "execution_count": 22,
   "id": "aeacfb27-f00e-45a6-8048-4fe289f1ae92",
   "metadata": {},
   "outputs": [
    {
     "name": "stdout",
     "output_type": "stream",
     "text": [
      "{'_id': ObjectId('68f7ec7f9e57672d671efca6'), 'user': 'user1', 'dream': 'I saw a ghost', 'analysis': {'primary_emotion': 'fear', 'secondary_emotion': 'surprise', 'confidence_primary': 0.93, 'confidence_secondary': 0.05}, 'timestamp': '22 Oct 2025, 01:56 AM'}\n",
      "{'_id': ObjectId('68f800d334680c2d48d2507d'), 'user_id': '68f7fe6769cb7d959812086b', 'dream': 'I fall from my bed', 'analysis': {'primary_emotion': 'fear', 'secondary_emotion': 'sadness', 'confidence_primary': 0.5, 'confidence_secondary': 0.28}, 'timestamp': '22 Oct 2025, 03:23 AM'}\n"
     ]
    }
   ],
   "source": [
    "for dream in dreams_collection.find({\"analysis.primary_emotion\": \"fear\"}):\n",
    "    print(dream)\n"
   ]
  },
  {
   "cell_type": "code",
   "execution_count": 23,
   "id": "00e05d77-d07f-42d3-8515-26643d940bcf",
   "metadata": {},
   "outputs": [
    {
     "data": {
      "image/png": "[encoded data removed]",
      "text/plain": [
       "<Figure size 640x480 with 1 Axes>"
      ]
     },
     "metadata": {},
     "output_type": "display_data"
    }
   ],
   "source": [
    "import matplotlib.pyplot as plt\n",
    "from collections import Counter\n",
    "\n",
    "emotions = [d[\"analysis\"][\"primary_emotion\"] for d in dreams_collection.find()]\n",
    "counts = Counter(emotions)\n",
    "\n",
    "plt.bar(counts.keys(), counts.values())\n",
    "plt.title(\"Dream Emotions Overview\")\n",
    "plt.xlabel(\"Emotion\")\n",
    "plt.ylabel(\"Count\")\n",
    "plt.show()\n"
   ]
  },
  {
   "cell_type": "code",
   "execution_count": null,
   "id": "03d4d02e-31a1-4106-8530-aae6ca299fcc",
   "metadata": {},
   "outputs": [],
   "source": [
    "# dreams_collection.delete_many({})\n",
    "# print(\"All old test dreams deleted.\"\n",
    "# "
   ]
  },
  {
   "cell_type": "code",
   "execution_count": 24,
   "id": "eca89687-a7e8-4fd6-bea6-6b9bddb803d8",
   "metadata": {},
   "outputs": [
    {
     "name": "stdout",
     "output_type": "stream",
     "text": [
      "Requirement already satisfied: flask-login in c:\\users\\chana\\appdata\\roaming\\python\\python313\\site-packages (0.6.3)\n",
      "Requirement already satisfied: werkzeug in c:\\users\\chana\\appdata\\roaming\\python\\python313\\site-packages (3.1.3)\n",
      "Requirement already satisfied: Flask>=1.0.4 in c:\\users\\chana\\appdata\\roaming\\python\\python313\\site-packages (from flask-login) (3.1.2)\n",
      "Requirement already satisfied: MarkupSafe>=2.1.1 in c:\\users\\chana\\appdata\\roaming\\python\\python313\\site-packages (from werkzeug) (3.0.2)\n",
      "Requirement already satisfied: blinker>=1.9.0 in c:\\users\\chana\\appdata\\roaming\\python\\python313\\site-packages (from Flask>=1.0.4->flask-login) (1.9.0)\n",
      "Requirement already satisfied: click>=8.1.3 in c:\\users\\chana\\appdata\\roaming\\python\\python313\\site-packages (from Flask>=1.0.4->flask-login) (8.3.0)\n",
      "Requirement already satisfied: itsdangerous>=2.2.0 in c:\\users\\chana\\appdata\\roaming\\python\\python313\\site-packages (from Flask>=1.0.4->flask-login) (2.2.0)\n",
      "Requirement already satisfied: jinja2>=3.1.2 in c:\\users\\chana\\appdata\\roaming\\python\\python313\\site-packages (from Flask>=1.0.4->flask-login) (3.1.6)\n",
      "Requirement already satisfied: colorama in c:\\users\\chana\\appdata\\roaming\\python\\python313\\site-packages (from click>=8.1.3->Flask>=1.0.4->flask-login) (0.4.6)\n"
     ]
    }
   ],
   "source": [
    "!pip install flask-login werkzeug\n"
   ]
  },
  {
   "cell_type": "code",
   "execution_count": null,
   "id": "057668ad-4e5e-43e1-a99c-b82f8a0c0c05",
   "metadata": {},
   "outputs": [],
   "source": []
  }
 ],
 "metadata": {
  "kernelspec": {
   "display_name": "Python 3 (ipykernel)",
   "language": "python",
   "name": "python3"
  },
  "language_info": {
   "codemirror_mode": {
    "name": "ipython",
    "version": 3
   },
   "file_extension": ".py",
   "mimetype": "text/x-python",
   "name": "python",
   "nbconvert_exporter": "python",
   "pygments_lexer": "ipython3",
   "version": "3.13.5"
  }
 },
 "nbformat": 4,
 "nbformat_minor": 5
}
